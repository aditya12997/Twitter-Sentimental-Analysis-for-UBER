{
 "cells": [
  {
   "cell_type": "markdown",
   "id": "072619d0",
   "metadata": {},
   "source": [
    "### Import the Necessary Libraries"
   ]
  },
  {
   "cell_type": "code",
   "execution_count": 35,
   "id": "496820ac",
   "metadata": {},
   "outputs": [],
   "source": [
    "import tweepy\n",
    "from textblob import TextBlob\n",
    "from wordcloud import WordCloud\n",
    "import pandas as pd\n",
    "import numpy as np\n",
    "import re\n",
    "import matplotlib.pyplot as plt\n",
    "plt.style.use('fivethirtyeight')"
   ]
  },
  {
   "cell_type": "markdown",
   "id": "db3e7872",
   "metadata": {},
   "source": [
    "### Twitter API credentials"
   ]
  },
  {
   "cell_type": "code",
   "execution_count": 67,
   "id": "a286c1af",
   "metadata": {},
   "outputs": [],
   "source": [
    "#Please generate your own keys from the twitter Developer API Account. \n",
    "\n",
    "consumer_key  = '************'\n",
    "\n",
    "consumer_secret = '**********************'\n",
    "\n",
    "Bearertoken = \"************************\"\n",
    "\n",
    "access_token = '***********************'\n",
    "\n",
    "access_token_secret = '***********************'"
   ]
  },
  {
   "cell_type": "markdown",
   "id": "e3341ce0",
   "metadata": {},
   "source": [
    "### Creating the Authentication"
   ]
  },
  {
   "cell_type": "code",
   "execution_count": 37,
   "id": "8ad24dde",
   "metadata": {},
   "outputs": [],
   "source": [
    "authenticate = tweepy.OAuthHandler(consumer_key, consumer_secret)\n",
    "\n",
    "# setting the access token and secret access token\n",
    "authenticate.set_access_token(access_token, access_token_secret)\n",
    "\n",
    "# create the API object while passing the Information\n",
    "api = tweepy.API(authenticate, wait_on_rate_limit= True)"
   ]
  },
  {
   "cell_type": "markdown",
   "id": "3ad4e4e6",
   "metadata": {},
   "source": [
    "### Extracting Tweets from Twitter"
   ]
  },
  {
   "cell_type": "code",
   "execution_count": 38,
   "id": "68fe859b",
   "metadata": {},
   "outputs": [
    {
     "name": "stderr",
     "output_type": "stream",
     "text": [
      "Unexpected parameter: lang\n"
     ]
    },
    {
     "name": "stdout",
     "output_type": "stream",
     "text": [
      "Show the 5 recent tweets: \n",
      "\n",
      "1) @Jasim68843440 Hi, we understand you're facing an issue with the fare of this trip. We'll be happy to take a closer look at this. Please share your registered phone number via Direct Message. We'll follow up. https://t.co/wuYI29eNE2\n",
      "\n",
      "2) @imcjdotin Hi, sorry to hear about the trouble. Please clear the cache on your phone and then reinstall the app for a quick fix. Go to phone Settings&gt; Tap on 'Apps'&gt; Select Uber app&gt; On the App Info interface, tap on 'Storage'&gt; Tap on 'Clear Cache'. Do let us know if the issue persists.\n",
      "\n",
      "3) @MdIqrarkgn Hey, we have addressed your concern and sent a response your way. Please check the in-app Help section. Appreciate your understanding.\n",
      "\n",
      "4) @nikhilchhajar Hi, sorry to hear about the trouble. If there is any specific trip that you'd like to report, please send across your phone number via Direct Message along with the date and time of the trip. We'll get this addressed. https://t.co/wuYI29eNE2\n",
      "\n",
      "5) Words cannot espresso how much this made us smile @ochocinco 😁☕️🌴 https://t.co/j2inCMJ2cY\n",
      "\n",
      "6) @ochocinco Love this a latte ☕️🌴\n",
      "\n"
     ]
    }
   ],
   "source": [
    "posts = api.user_timeline(screen_name = \"uber\", count=1000, lang=\"en\", tweet_mode=\"extended\")\n",
    "\n",
    "#printing the tweets to have a look at it.\n",
    "\n",
    "print(\"Show the 5 recent tweets: \\n\")\n",
    "i=1\n",
    "for tweet in posts[0:6]:\n",
    "    print(str(i) + ') ' + tweet.full_text + '\\n')\n",
    "    i += 1"
   ]
  },
  {
   "cell_type": "code",
   "execution_count": 39,
   "id": "1fc3af14",
   "metadata": {},
   "outputs": [
    {
     "data": {
      "text/html": [
       "<div>\n",
       "<style scoped>\n",
       "    .dataframe tbody tr th:only-of-type {\n",
       "        vertical-align: middle;\n",
       "    }\n",
       "\n",
       "    .dataframe tbody tr th {\n",
       "        vertical-align: top;\n",
       "    }\n",
       "\n",
       "    .dataframe thead th {\n",
       "        text-align: right;\n",
       "    }\n",
       "</style>\n",
       "<table border=\"1\" class=\"dataframe\">\n",
       "  <thead>\n",
       "    <tr style=\"text-align: right;\">\n",
       "      <th></th>\n",
       "      <th>Tweets</th>\n",
       "    </tr>\n",
       "  </thead>\n",
       "  <tbody>\n",
       "    <tr>\n",
       "      <th>0</th>\n",
       "      <td>@Jasim68843440 Hi, we understand you're facing...</td>\n",
       "    </tr>\n",
       "    <tr>\n",
       "      <th>1</th>\n",
       "      <td>@imcjdotin Hi, sorry to hear about the trouble...</td>\n",
       "    </tr>\n",
       "    <tr>\n",
       "      <th>2</th>\n",
       "      <td>@MdIqrarkgn Hey, we have addressed your concer...</td>\n",
       "    </tr>\n",
       "    <tr>\n",
       "      <th>3</th>\n",
       "      <td>@nikhilchhajar Hi, sorry to hear about the tro...</td>\n",
       "    </tr>\n",
       "    <tr>\n",
       "      <th>4</th>\n",
       "      <td>Words cannot espresso how much this made us sm...</td>\n",
       "    </tr>\n",
       "  </tbody>\n",
       "</table>\n",
       "</div>"
      ],
      "text/plain": [
       "                                              Tweets\n",
       "0  @Jasim68843440 Hi, we understand you're facing...\n",
       "1  @imcjdotin Hi, sorry to hear about the trouble...\n",
       "2  @MdIqrarkgn Hey, we have addressed your concer...\n",
       "3  @nikhilchhajar Hi, sorry to hear about the tro...\n",
       "4  Words cannot espresso how much this made us sm..."
      ]
     },
     "execution_count": 39,
     "metadata": {},
     "output_type": "execute_result"
    }
   ],
   "source": [
    "### lets create a dataframe with a column called tweets.\n",
    "\n",
    "df = pd.DataFrame([tweet.full_text for tweet in posts], columns=['Tweets'])\n",
    "\n",
    "#show the first 5 rows of data.\n",
    "df.head()"
   ]
  },
  {
   "cell_type": "markdown",
   "id": "7819fe7c",
   "metadata": {},
   "source": [
    "### Cleaning the text in the data"
   ]
  },
  {
   "cell_type": "code",
   "execution_count": 40,
   "id": "e48a0e10",
   "metadata": {},
   "outputs": [
    {
     "data": {
      "text/html": [
       "<div>\n",
       "<style scoped>\n",
       "    .dataframe tbody tr th:only-of-type {\n",
       "        vertical-align: middle;\n",
       "    }\n",
       "\n",
       "    .dataframe tbody tr th {\n",
       "        vertical-align: top;\n",
       "    }\n",
       "\n",
       "    .dataframe thead th {\n",
       "        text-align: right;\n",
       "    }\n",
       "</style>\n",
       "<table border=\"1\" class=\"dataframe\">\n",
       "  <thead>\n",
       "    <tr style=\"text-align: right;\">\n",
       "      <th></th>\n",
       "      <th>Tweets</th>\n",
       "    </tr>\n",
       "  </thead>\n",
       "  <tbody>\n",
       "    <tr>\n",
       "      <th>0</th>\n",
       "      <td>Hi, we understand you're facing an issue with...</td>\n",
       "    </tr>\n",
       "    <tr>\n",
       "      <th>1</th>\n",
       "      <td>Hi, sorry to hear about the trouble. Please c...</td>\n",
       "    </tr>\n",
       "    <tr>\n",
       "      <th>2</th>\n",
       "      <td>Hey, we have addressed your concern and sent ...</td>\n",
       "    </tr>\n",
       "    <tr>\n",
       "      <th>3</th>\n",
       "      <td>Hi, sorry to hear about the trouble. If there...</td>\n",
       "    </tr>\n",
       "    <tr>\n",
       "      <th>4</th>\n",
       "      <td>Words cannot espresso how much this made us sm...</td>\n",
       "    </tr>\n",
       "    <tr>\n",
       "      <th>...</th>\n",
       "      <td>...</td>\n",
       "    </tr>\n",
       "    <tr>\n",
       "      <th>195</th>\n",
       "      <td>___ 🙏</td>\n",
       "    </tr>\n",
       "    <tr>\n",
       "      <th>196</th>\n",
       "      <td>_Reddy_ Hi, sorry to hear about the trouble. C...</td>\n",
       "    </tr>\n",
       "    <tr>\n",
       "      <th>197</th>\n",
       "      <td>_Muntha Hi, sorry to hear about the trouble. C...</td>\n",
       "    </tr>\n",
       "    <tr>\n",
       "      <th>198</th>\n",
       "      <td>_bakshi Hi, sorry to hear about the trouble. C...</td>\n",
       "    </tr>\n",
       "    <tr>\n",
       "      <th>199</th>\n",
       "      <td>Hi, sorry to hear about the trouble. Could yo...</td>\n",
       "    </tr>\n",
       "  </tbody>\n",
       "</table>\n",
       "<p>200 rows × 1 columns</p>\n",
       "</div>"
      ],
      "text/plain": [
       "                                                Tweets\n",
       "0     Hi, we understand you're facing an issue with...\n",
       "1     Hi, sorry to hear about the trouble. Please c...\n",
       "2     Hey, we have addressed your concern and sent ...\n",
       "3     Hi, sorry to hear about the trouble. If there...\n",
       "4    Words cannot espresso how much this made us sm...\n",
       "..                                                 ...\n",
       "195                                              ___ 🙏\n",
       "196  _Reddy_ Hi, sorry to hear about the trouble. C...\n",
       "197  _Muntha Hi, sorry to hear about the trouble. C...\n",
       "198  _bakshi Hi, sorry to hear about the trouble. C...\n",
       "199   Hi, sorry to hear about the trouble. Could yo...\n",
       "\n",
       "[200 rows x 1 columns]"
      ]
     },
     "execution_count": 40,
     "metadata": {},
     "output_type": "execute_result"
    }
   ],
   "source": [
    "#creating the fucntion which cleans the data for us.\n",
    "def cleanText(text):\n",
    "    text=re.sub(r'@[A-Za-z0-9]+', '', text) #Removes @mention in the tweets\n",
    "    text = re.sub(r'#', '', text) #removing the hashtag symbol\n",
    "    text =re.sub(r'RT[\\s]+', '', text) # removing retweets\n",
    "    text = re.sub(r'https?:\\/\\/\\S+', '', text) # Remove the hyper link\n",
    "    \n",
    "    return text\n",
    "\n",
    "df['Tweets'] = df['Tweets'].apply(cleanText)\n",
    "\n",
    "#showing the clean tweets in the data\n",
    "df"
   ]
  },
  {
   "cell_type": "code",
   "execution_count": 41,
   "id": "7b38ebb9",
   "metadata": {},
   "outputs": [
    {
     "data": {
      "text/html": [
       "<div>\n",
       "<style scoped>\n",
       "    .dataframe tbody tr th:only-of-type {\n",
       "        vertical-align: middle;\n",
       "    }\n",
       "\n",
       "    .dataframe tbody tr th {\n",
       "        vertical-align: top;\n",
       "    }\n",
       "\n",
       "    .dataframe thead th {\n",
       "        text-align: right;\n",
       "    }\n",
       "</style>\n",
       "<table border=\"1\" class=\"dataframe\">\n",
       "  <thead>\n",
       "    <tr style=\"text-align: right;\">\n",
       "      <th></th>\n",
       "      <th>Tweets</th>\n",
       "      <th>Subjectivity</th>\n",
       "      <th>Polarity</th>\n",
       "    </tr>\n",
       "  </thead>\n",
       "  <tbody>\n",
       "    <tr>\n",
       "      <th>0</th>\n",
       "      <td>Hi, we understand you're facing an issue with...</td>\n",
       "      <td>0.700000</td>\n",
       "      <td>0.450000</td>\n",
       "    </tr>\n",
       "    <tr>\n",
       "      <th>1</th>\n",
       "      <td>Hi, sorry to hear about the trouble. Please c...</td>\n",
       "      <td>0.493333</td>\n",
       "      <td>-0.033333</td>\n",
       "    </tr>\n",
       "    <tr>\n",
       "      <th>2</th>\n",
       "      <td>Hey, we have addressed your concern and sent ...</td>\n",
       "      <td>0.000000</td>\n",
       "      <td>0.000000</td>\n",
       "    </tr>\n",
       "    <tr>\n",
       "      <th>3</th>\n",
       "      <td>Hi, sorry to hear about the trouble. If there...</td>\n",
       "      <td>0.431250</td>\n",
       "      <td>-0.150000</td>\n",
       "    </tr>\n",
       "    <tr>\n",
       "      <th>4</th>\n",
       "      <td>Words cannot espresso how much this made us sm...</td>\n",
       "      <td>0.150000</td>\n",
       "      <td>0.250000</td>\n",
       "    </tr>\n",
       "    <tr>\n",
       "      <th>...</th>\n",
       "      <td>...</td>\n",
       "      <td>...</td>\n",
       "      <td>...</td>\n",
       "    </tr>\n",
       "    <tr>\n",
       "      <th>195</th>\n",
       "      <td>___ 🙏</td>\n",
       "      <td>0.000000</td>\n",
       "      <td>0.000000</td>\n",
       "    </tr>\n",
       "    <tr>\n",
       "      <th>196</th>\n",
       "      <td>_Reddy_ Hi, sorry to hear about the trouble. C...</td>\n",
       "      <td>0.533333</td>\n",
       "      <td>-0.200000</td>\n",
       "    </tr>\n",
       "    <tr>\n",
       "      <th>197</th>\n",
       "      <td>_Muntha Hi, sorry to hear about the trouble. C...</td>\n",
       "      <td>0.533333</td>\n",
       "      <td>-0.200000</td>\n",
       "    </tr>\n",
       "    <tr>\n",
       "      <th>198</th>\n",
       "      <td>_bakshi Hi, sorry to hear about the trouble. C...</td>\n",
       "      <td>0.533333</td>\n",
       "      <td>-0.200000</td>\n",
       "    </tr>\n",
       "    <tr>\n",
       "      <th>199</th>\n",
       "      <td>Hi, sorry to hear about the trouble. Could yo...</td>\n",
       "      <td>0.533333</td>\n",
       "      <td>-0.200000</td>\n",
       "    </tr>\n",
       "  </tbody>\n",
       "</table>\n",
       "<p>200 rows × 3 columns</p>\n",
       "</div>"
      ],
      "text/plain": [
       "                                                Tweets  Subjectivity  Polarity\n",
       "0     Hi, we understand you're facing an issue with...      0.700000  0.450000\n",
       "1     Hi, sorry to hear about the trouble. Please c...      0.493333 -0.033333\n",
       "2     Hey, we have addressed your concern and sent ...      0.000000  0.000000\n",
       "3     Hi, sorry to hear about the trouble. If there...      0.431250 -0.150000\n",
       "4    Words cannot espresso how much this made us sm...      0.150000  0.250000\n",
       "..                                                 ...           ...       ...\n",
       "195                                              ___ 🙏      0.000000  0.000000\n",
       "196  _Reddy_ Hi, sorry to hear about the trouble. C...      0.533333 -0.200000\n",
       "197  _Muntha Hi, sorry to hear about the trouble. C...      0.533333 -0.200000\n",
       "198  _bakshi Hi, sorry to hear about the trouble. C...      0.533333 -0.200000\n",
       "199   Hi, sorry to hear about the trouble. Could yo...      0.533333 -0.200000\n",
       "\n",
       "[200 rows x 3 columns]"
      ]
     },
     "execution_count": 41,
     "metadata": {},
     "output_type": "execute_result"
    }
   ],
   "source": [
    "#create a fucntion to get the subjectivity\n",
    "def getsubject(text):\n",
    "    return TextBlob(text).sentiment.subjectivity\n",
    "\n",
    "#fucntion to get polarity\n",
    "def getpolarity(text):\n",
    "    return TextBlob(text).sentiment.polarity\n",
    "\n",
    "# creating extra columns\n",
    "df['Subjectivity'] = df['Tweets'].apply(getsubject)\n",
    "df['Polarity'] = df['Tweets'].apply(getpolarity)\n",
    "\n",
    "#lets see our new Dataframe\n",
    "df"
   ]
  },
  {
   "cell_type": "markdown",
   "id": "4b6dff56",
   "metadata": {},
   "source": [
    "### Plotting the Word Cloud"
   ]
  },
  {
   "cell_type": "code",
   "execution_count": 42,
   "id": "82520004",
   "metadata": {},
   "outputs": [
    {
     "data": {
      "image/png": "[encoded data removed]",
      "text/plain": [
       "<Figure size 432x288 with 1 Axes>"
      ]
     },
     "metadata": {},
     "output_type": "display_data"
    }
   ],
   "source": [
    "allwords = ' '.join([tweet for tweet in df['Tweets']])\n",
    "\n",
    "wordCloud = WordCloud(width =500, height =300, random_state=21, max_font_size=119).generate(allwords)\n",
    "\n",
    "plt.imshow(wordCloud, interpolation= \"bilinear\")\n",
    "plt.axis('off') #remove the axis\n",
    "plt.show()"
   ]
  },
  {
   "cell_type": "code",
   "execution_count": 43,
   "id": "5a4cd951",
   "metadata": {},
   "outputs": [
    {
     "data": {
      "text/html": [
       "<div>\n",
       "<style scoped>\n",
       "    .dataframe tbody tr th:only-of-type {\n",
       "        vertical-align: middle;\n",
       "    }\n",
       "\n",
       "    .dataframe tbody tr th {\n",
       "        vertical-align: top;\n",
       "    }\n",
       "\n",
       "    .dataframe thead th {\n",
       "        text-align: right;\n",
       "    }\n",
       "</style>\n",
       "<table border=\"1\" class=\"dataframe\">\n",
       "  <thead>\n",
       "    <tr style=\"text-align: right;\">\n",
       "      <th></th>\n",
       "      <th>Tweets</th>\n",
       "      <th>Subjectivity</th>\n",
       "      <th>Polarity</th>\n",
       "      <th>Analysis</th>\n",
       "    </tr>\n",
       "  </thead>\n",
       "  <tbody>\n",
       "    <tr>\n",
       "      <th>0</th>\n",
       "      <td>Hi, we understand you're facing an issue with...</td>\n",
       "      <td>0.700000</td>\n",
       "      <td>0.450000</td>\n",
       "      <td>Positive</td>\n",
       "    </tr>\n",
       "    <tr>\n",
       "      <th>1</th>\n",
       "      <td>Hi, sorry to hear about the trouble. Please c...</td>\n",
       "      <td>0.493333</td>\n",
       "      <td>-0.033333</td>\n",
       "      <td>Negative</td>\n",
       "    </tr>\n",
       "    <tr>\n",
       "      <th>2</th>\n",
       "      <td>Hey, we have addressed your concern and sent ...</td>\n",
       "      <td>0.000000</td>\n",
       "      <td>0.000000</td>\n",
       "      <td>Neutral</td>\n",
       "    </tr>\n",
       "    <tr>\n",
       "      <th>3</th>\n",
       "      <td>Hi, sorry to hear about the trouble. If there...</td>\n",
       "      <td>0.431250</td>\n",
       "      <td>-0.150000</td>\n",
       "      <td>Negative</td>\n",
       "    </tr>\n",
       "    <tr>\n",
       "      <th>4</th>\n",
       "      <td>Words cannot espresso how much this made us sm...</td>\n",
       "      <td>0.150000</td>\n",
       "      <td>0.250000</td>\n",
       "      <td>Positive</td>\n",
       "    </tr>\n",
       "    <tr>\n",
       "      <th>...</th>\n",
       "      <td>...</td>\n",
       "      <td>...</td>\n",
       "      <td>...</td>\n",
       "      <td>...</td>\n",
       "    </tr>\n",
       "    <tr>\n",
       "      <th>195</th>\n",
       "      <td>___ 🙏</td>\n",
       "      <td>0.000000</td>\n",
       "      <td>0.000000</td>\n",
       "      <td>Neutral</td>\n",
       "    </tr>\n",
       "    <tr>\n",
       "      <th>196</th>\n",
       "      <td>_Reddy_ Hi, sorry to hear about the trouble. C...</td>\n",
       "      <td>0.533333</td>\n",
       "      <td>-0.200000</td>\n",
       "      <td>Negative</td>\n",
       "    </tr>\n",
       "    <tr>\n",
       "      <th>197</th>\n",
       "      <td>_Muntha Hi, sorry to hear about the trouble. C...</td>\n",
       "      <td>0.533333</td>\n",
       "      <td>-0.200000</td>\n",
       "      <td>Negative</td>\n",
       "    </tr>\n",
       "    <tr>\n",
       "      <th>198</th>\n",
       "      <td>_bakshi Hi, sorry to hear about the trouble. C...</td>\n",
       "      <td>0.533333</td>\n",
       "      <td>-0.200000</td>\n",
       "      <td>Negative</td>\n",
       "    </tr>\n",
       "    <tr>\n",
       "      <th>199</th>\n",
       "      <td>Hi, sorry to hear about the trouble. Could yo...</td>\n",
       "      <td>0.533333</td>\n",
       "      <td>-0.200000</td>\n",
       "      <td>Negative</td>\n",
       "    </tr>\n",
       "  </tbody>\n",
       "</table>\n",
       "<p>200 rows × 4 columns</p>\n",
       "</div>"
      ],
      "text/plain": [
       "                                                Tweets  Subjectivity  \\\n",
       "0     Hi, we understand you're facing an issue with...      0.700000   \n",
       "1     Hi, sorry to hear about the trouble. Please c...      0.493333   \n",
       "2     Hey, we have addressed your concern and sent ...      0.000000   \n",
       "3     Hi, sorry to hear about the trouble. If there...      0.431250   \n",
       "4    Words cannot espresso how much this made us sm...      0.150000   \n",
       "..                                                 ...           ...   \n",
       "195                                              ___ 🙏      0.000000   \n",
       "196  _Reddy_ Hi, sorry to hear about the trouble. C...      0.533333   \n",
       "197  _Muntha Hi, sorry to hear about the trouble. C...      0.533333   \n",
       "198  _bakshi Hi, sorry to hear about the trouble. C...      0.533333   \n",
       "199   Hi, sorry to hear about the trouble. Could yo...      0.533333   \n",
       "\n",
       "     Polarity  Analysis  \n",
       "0    0.450000  Positive  \n",
       "1   -0.033333  Negative  \n",
       "2    0.000000   Neutral  \n",
       "3   -0.150000  Negative  \n",
       "4    0.250000  Positive  \n",
       "..        ...       ...  \n",
       "195  0.000000   Neutral  \n",
       "196 -0.200000  Negative  \n",
       "197 -0.200000  Negative  \n",
       "198 -0.200000  Negative  \n",
       "199 -0.200000  Negative  \n",
       "\n",
       "[200 rows x 4 columns]"
      ]
     },
     "execution_count": 43,
     "metadata": {},
     "output_type": "execute_result"
    }
   ],
   "source": [
    "### Create a fucntion where it computes the negative, positive, neutral analysis.\n",
    "def getAnalysis(score):\n",
    "    if score < 0:\n",
    "        return 'Negative'\n",
    "    elif score == 0:\n",
    "        return \"Neutral\"\n",
    "    else:\n",
    "        return \"Positive\"\n",
    "    \n",
    "df['Analysis'] = df['Polarity'].apply(getAnalysis)\n",
    "\n",
    "#show the df\n",
    "df"
   ]
  },
  {
   "cell_type": "markdown",
   "id": "0058fe26",
   "metadata": {},
   "source": [
    "### Print all the positive tweets"
   ]
  },
  {
   "cell_type": "code",
   "execution_count": 45,
   "id": "bdc8cb2b",
   "metadata": {},
   "outputs": [
    {
     "name": "stdout",
     "output_type": "stream",
     "text": [
      "1 Hi, we understand you're facing an issue with the fare of this trip. We'll be happy to take a closer look at this. Please share your registered phone number via Direct Message. We'll follow up. \n",
      "\n",
      "2Words cannot espresso how much this made us smile  😁☕️🌴 \n",
      "\n",
      "3 Love this a latte ☕️🌴\n",
      "\n",
      "4_mary That's awesome! We're glad Charlie loves it as well 🐶\n",
      "\n",
      "5 10/10! (and Happy Taurus Szn!) \n",
      "\n",
      "6 Well, our legal is at Coachella today… let the games begin!! 🤣\n",
      "\n",
      "7 Seconded Chris' ring ride idea! 😲🚀  pretty please?\n",
      "\n",
      "8 Thrilled to be in this generation. 😅😆\n",
      "\n",
      "9 Today's the big day! Happy 🌏 Day from this earthling! EarthDay2022\n",
      "\n",
      "10 Hey Raghu, we've addressed your concern and sent a response your way. You should be able to view the details via Direct Message. Appreciate your understanding.\n",
      "\n",
      "11 *Sigh* Ok fine, it's me. 🙋\n",
      "\n",
      "12Go Anywhere on EarthDay  🌱 🌎\n",
      "\n",
      "When you request a ride with Uber Green in LA, DC, or Miami on 4/22, lucky riders will have the chance to enjoy an impromptu adventure:  \n",
      "\n",
      "13 Get home safely friends 🐶\n",
      "\n",
      "14You can now ride without a mask and use the front seat if you need to. While mask usage is still recommended, we’ve updated our Covid Safety policies. Let’s move forward, safely together.\n",
      "\n",
      "For US riders only. \n",
      "\n",
      "15 The driver waiting right in front of you: \n",
      "\n",
      "16_ro It was an honor to be a part of such an epic weekend 🎶💜 BTSArmy BTS\n",
      "\n",
      "17. may have called it strange, but looks like an epic ride to us!😆 \n",
      "\n",
      "18 Perhaps now, when they fly next, it will be a good one. 😉\n",
      "\n",
      "19 Staying heated 'til they win 🔥 BTSArmy BTS 💜\n",
      "\n",
      "20_one Hi, we understand you're facing an issue with the fare of this trip. We'll be happy to take a closer look at this. Please share your registered phone number along with the date and time of the trip in reference via Direct Message. We'll follow up. \n",
      "\n",
      "21 Hi, we understand you're facing an issue with the fare of this trip. We'll be happy to take a closer look at this. Please share your registered phone number along with the date and time of the trip via Direct Message. We'll follow up. \n",
      "\n",
      "22 Hey, we've addressed your concern and sent a response your way. You should be able to view the details via Direct Message. Appreciate your understanding.\n",
      "\n",
      "23 Now this is a FeelGoodFriday story! Thanks for sharing.\n",
      "\n",
      "24 👑 Outstanding. Reunited and it feels good.😊\n",
      "\n",
      "25Driving gives Carli the flexibility to do what she loves. Now she’s going back to school while being a mother of two. “I want to be able to show my children that no matter what age you are, you can do it.” YourRoad DoWhatYouLove Flexibility FlexibleWork \n",
      "\n",
      "26 Hi, upon reviewing we see that your concern has already been addressed. We urge you to keep an eye out for the response shared in-app for more details and revert to the same thread, might you have any further queries in this regard. We'll be more than happy to help.\n",
      "\n",
      "27 😊 Nice. We love it!\n",
      "\n",
      "28 We love a good convo in the back seat of a ride with Uber🚗\n",
      "\n",
      "29We believe in better work.\n",
      "\n",
      "That’s why we’re championing a new and improved approach to platform work, and why we’re helping drivers and delivery people realize their ambitions. UberSocialImpact \n",
      "\n",
      "30This one gets me ANYthing I want. , thanks for always being there NationalSiblingsDay ❤️ \n",
      "\n",
      "31: Super proud 👇🏽 \n",
      "\n",
      "32 🎶 Just keep the right vibe, yeah, 'cause there's no looking back 🎶\n",
      "\n",
      "33 Awesome, thank you!😄💜\n",
      "\n",
      "34 We would like to post your video to Uber's Instagram! 💜Are you OK with that?\n",
      "\n",
      "35 If we cannot handle you at your fruit pie, we don't deserve you at your best. 😏 🥧\n",
      "\n",
      "36 Couldn't agree more. Come check us out in London sometime!  🛥😎 \n",
      "\n",
      "37 You never forget those first moments. 💚 🚗 🥳\n",
      "\n",
      "38: Good things coming 🌴! \n",
      "\n",
      "39A sound engineer and entrepreneur, Brianna earns with Uber because it lets them control their hours and focus on their dream career: \"I want to feel my version of success. I feel like I'm getting there.\" YourRoad DoWhatYouLove Flexibility FlexibleWork \n",
      "\n",
      "40Our friends at  know what’s what… time for a trip to Old Blighty. Name your fav UK landmark. travel \n",
      "\n",
      "41 Be sure to give him five 🦴's after the ride! 😉\n",
      "\n",
      "42And remember, always match the license plate number and car make and model with what’s shown in the app. Also, make sure your driver matches their in-app photo.\n",
      "\n",
      "43Use Verify Your Ride to get an extra layer of protection when you ride. You’ll receive a unique PIN for every ride, share that PIN with your driver to help ensure you’re in the right vehicle. \n",
      "\n",
      "44 Happy FirstContactDay 🖖 which  character would you want to ride in a rocket with to meet the Vulcans?\n",
      "\n",
      "45  Happy to help out! 🤣\n",
      "\n",
      "46 Absolutely, couldn't agree more. 🙏\n",
      "\n",
      "47 Be sure to give her 5 treats! ⭐️⭐️⭐️⭐️⭐️\n",
      "\n",
      "48  That really is 🐐 status.\n",
      "\n",
      "49Couldn’t agree more . We’d “Green Light” that!! \n",
      "\n",
      "50 More like chew-ber driver, amirite? 😉\n",
      "\n",
      "51 So cool!\n",
      "\n",
      "52 Stay ready so you don't have to get ready. 🙏\n",
      "\n",
      "53   Traveling can be stressful - happy to help where we can! 🧳\n",
      "\n",
      "54 Love getting to make things easier for mom! 👩‍👧\n",
      "\n",
      "55 We’d give that the “Green Light” 💚\n",
      "\n"
     ]
    }
   ],
   "source": [
    "\n",
    "\n",
    "j=1\n",
    "sortedDf = df.sort_values(by=['Polarity'])\n",
    "for i in range(0, sortedDf.shape[0]):\n",
    "    if (sortedDf['Analysis'][i] == \"Positive\"):\n",
    "        print(str(j)  + sortedDf['Tweets'][i])\n",
    "        print()\n",
    "        j += 1"
   ]
  },
  {
   "cell_type": "markdown",
   "id": "f970e39f",
   "metadata": {},
   "source": [
    "### Print all the negative tweets"
   ]
  },
  {
   "cell_type": "code",
   "execution_count": 46,
   "id": "11d8f1b7",
   "metadata": {},
   "outputs": [
    {
     "name": "stdout",
     "output_type": "stream",
     "text": [
      "1)  Hi, sorry to hear about the trouble. Please clear the cache on your phone and then reinstall the app for a quick fix. Go to phone Settings&gt; Tap on 'Apps'&gt; Select Uber app&gt; On the App Info interface, tap on 'Storage'&gt; Tap on 'Clear Cache'. Do let us know if the issue persists.\n",
      "\n",
      "2)  Hi, sorry to hear about the trouble. If there is any specific trip that you'd like to report, please send across your phone number via Direct Message along with the date and time of the trip. We'll get this addressed. \n",
      "\n",
      "3) Enter Promo Code GoGreen22 when selecting Uber Green in app; $2 off per ride; up to a max of 10 rides; offer valid between 4/21-4/30/22, while supplies last. Terms apply. uber://messaginghub\n",
      "\n",
      "4) Go Green and save with  and Uber 🌳\n",
      "\n",
      "When you take a trip with Uber Green, e-bikes, or scooter rides, you can receive $2 off with your Mastercard and promo code GoGreen2022! Ends 4/30. \n",
      "\n",
      "5)  Hi, sorry to hear about the trouble. If there is any specific trip that you'd like to report, please send across your phone number via Direct Message along with the date and time of the trip. We'll get this addressed. \n",
      "\n",
      "6)  Hi there, sorry to hear about this unpleasant experience. This is definitely not the kind of experience we would like you to have on our platform. Please share your registered mobile number via Direct Message. We will follow up. \n",
      "\n",
      "7)  Hi, sorry to hear about the trouble. If there is any specific trip that you'd like to report, please send across your phone number via Direct Message along with the date and time of the trip. We'll get this addressed. \n",
      "\n",
      "8)  Hi, sorry to hear about the trouble. If there is any specific trip that you'd like to report, please send across your phone number via Direct Message along with the date and time of the trip. We'll get this addressed. \n",
      "\n",
      "9)  I'm not crying, you're crying. 🥺\n",
      "\n",
      "10) In celebration of Mother Earth, we hit the streets of LA and asked people how they live green and sustainably 🌱👀🌳\n",
      "Everyday is EarthDay with Uber Green! Uber Green is the same price as UberX, so you can help the planet and save. Check the app for details. \n",
      "\n",
      "11) Celebrate EarthDay with UberGreen—your eco-friendly, sustainable ride. US riders can get an Uber Green trip for the same price as an UberX trip, just follow the link in our bio!\n",
      "\n",
      "We’re committed to Green. GoGreen \n",
      "\n",
      "12) Get in, climate heroes. We’re taking a ride with Uber Green and _shep 🌱\n",
      "\n",
      "In our new series “One Minute with…,” we took a trip with Steph, co-founder of the climate education platform Future Earth. Mask usage is still recommended. See our updated Covid Safety policies. \n",
      "\n",
      "13) From electric vehicles to food waste reduction, we’re committed to operating sustainably and working to protect the future of our 🌎SocialImpact Sustainability \n",
      "\n",
      "14)  Looks like the BTSArmy just got a little bit bigger. 💜😎\n",
      "\n",
      "15)  Hey, sorry to hear about the trouble. Could you please share the screenshots of both the transactions via Direct Message with same amount reflecting the transaction ID? We will follow up. \n",
      "\n",
      "16)  Hi, sorry to hear about this unpleasant experience. This is definitely not the kind of experience we would like you to have on our platform. Please share your registered mobile number and the date and time of the trip via Direct Message. We will follow up. \n",
      "\n",
      "17)  Hi, sorry to hear about this unpleasant experience. This is definitely not the kind of experience we would like you to have on our platform. Please share your registered mobile number via Direct Message. We will follow up. \n",
      "\n",
      "18) _1012 Hi, we encourage drivers to complete all trip requests and avoid causing any discomfort to riders. We understand such issues are never pleasant to deal with. We've made a note of your feedback and have forwarded the same to the concerned team. Appreciate your understanding.\n",
      "\n",
      "19)  How did you rate the rider, nothing less than 5 🌟 we hope 😉\n",
      "\n",
      "20)  Hi, sorry to hear about the trouble. If there is any specific trip that you'd like to report, please send across your phone number via Direct Message along with the date and time of the trip. We'll get this addressed. \n",
      "\n",
      "21) _2abhishek Hi, sorry for the hassle. Please allow us some time while we look into this and get back to you with an update soon.\n",
      "\n",
      "22)  Hi, sorry to hear about this unpleasant experience. This is definitely not the kind of experience we would like you to have on our platform. Please allow us some time while we look into this and get back to you with an update soon.\n",
      "\n",
      "23)  Hi, sorry to hear about this unpleasant experience. This is definitely not the kind of experience we would like you to have on our platform. Please share your registered mobile number and the date and time of the trip via Direct Message. We will follow up. \n",
      "\n",
      "24) _Mayassar Hi, sorry for the hassle. We’d like to get it addressed. Please share your registered details via Direct message. \n",
      "\n",
      "25) _hobi A BTS car concert's hard to beat! 💜\n",
      "\n",
      "26)  When you're a part of the BTSARMY it's never too late for a backseat concert 😏💜\n",
      "\n",
      "27)  Hey, sorry for the trouble. Kindly allow us some time while we look into this for you. \n",
      "\n",
      "28) \"Come five o’clock, “Eddie the plumber” becomes “Disco Uber Eddie.” Eddie also wears a long black wig and bandanna, to mimic an 80s rock star.\"🕺  \n",
      "\n",
      "29) _02_ Is there any other way to feel in a Tesla 🤔\n",
      "\n",
      "30)  Hi, sorry for the inconvenience. Please share your registered details via Direct message. We'll follow up. \n",
      "\n",
      "31) __LmaO Hi, sorry to hear about the trouble. Could you please share the date and time of the trip via Direct Message to look into this for you? \n",
      "\n",
      "32)  Hi, sorry to hear about the trouble. Could you please share your registered contact details along with the date and time of the trip via Direct Message to look into this for you? \n",
      "\n",
      "33) _Reloaded Hi, sorry to hear about the trouble. Could you please share your registered contact details along with the date and time of the trip via Direct Message to look into this for you? \n",
      "\n",
      "34)  Hi, sorry to hear about the trouble. If there is any specific trip that you'd like to report, please send across your phone number via Direct Message along with the date and time of the trip. We'll get this addressed. \n",
      "\n",
      "35)  Hi, sorry to hear about this unpleasant experience. This is definitely not the kind of experience we would like you to have on our platform. Please share your registered mobile number and the date and time of the trip via Direct Message. We will follow up. \n",
      "\n",
      "36) _moorjani Hi, sorry to hear about this unpleasant experience. Please share your registered contact details along with date and time of the trip via Direct Message. We will follow up. \n",
      "\n",
      "37)  Time is a flat circle. \n",
      "\n",
      "38)  Say no more, we got your friend's back (and tail). 🦎\n",
      "\n",
      "39)  Hi, sorry to hear about the trouble. Could you please share your registered contact details along with the date and time of the trip via Direct Message to look into this for you? \n",
      "\n",
      "40)  Hi, sorry for the inconvenience. Could you please share your registered contact details along with the date and time of the trip via Direct Message to look into this for you? \n",
      "\n",
      "41) _Reddy_ Hi, sorry to hear about the trouble. Could you please share your registered contact details along with the date and time of the trip via Direct Message to look into this for you? \n",
      "\n",
      "42) _Muntha Hi, sorry to hear about the trouble. Could you please share your registered contact details along with the date and time of the trip via Direct Message to look into this for you? \n",
      "\n",
      "43) _bakshi Hi, sorry to hear about the trouble. Could you please share your registered contact details along with the date and time of the trip via Direct Message to look into this for you? \n",
      "\n",
      "44)  Hi, sorry to hear about the trouble. Could you please share the date and time of the trip via Direct Message to look into this for you? \n",
      "\n"
     ]
    }
   ],
   "source": [
    "j = 1\n",
    "sortedDf = df.sort_values(by=['Polarity'], ascending='False')\n",
    "for i in range(0, sortedDf.shape[0]):\n",
    "    if(sortedDf['Analysis'][i] == \"Negative\"):\n",
    "        print(str(j) + \") \" + sortedDf['Tweets'][i])\n",
    "        print()\n",
    "        j += 1\n",
    "        "
   ]
  },
  {
   "cell_type": "markdown",
   "id": "812fc970",
   "metadata": {},
   "source": [
    "### Plot the Polarity and the Subjectivity of the tweets."
   ]
  },
  {
   "cell_type": "code",
   "execution_count": 49,
   "id": "d768db00",
   "metadata": {},
   "outputs": [
    {
     "data": {
      "image/png": "[encoded data removed]",
      "text/plain": [
       "<Figure size 720x576 with 1 Axes>"
      ]
     },
     "metadata": {},
     "output_type": "display_data"
    }
   ],
   "source": [
    "plt.figure(figsize=(10,8))\n",
    "for i in range(0, df.shape[0]):\n",
    "    plt.scatter(df['Polarity'][i], df['Subjectivity'][i], color=\"Blue\")\n",
    "    \n",
    "plt.title(\"Sentiment Analysis of the Tweets of Uber.\")\n",
    "plt.xlabel(\"Polarity\")\n",
    "plt.ylabel(\"Subjectivity\")\n",
    "plt.show()"
   ]
  },
  {
   "cell_type": "markdown",
   "id": "0b1f5ab3",
   "metadata": {},
   "source": [
    "### Get the percentage of Positive/Negative Tweets"
   ]
  },
  {
   "cell_type": "code",
   "execution_count": 62,
   "id": "f89ed455",
   "metadata": {},
   "outputs": [
    {
     "name": "stdout",
     "output_type": "stream",
     "text": [
      " The percentage of Positive tweets are: 27.5%\n"
     ]
    }
   ],
   "source": [
    "ptweets = df[df.Analysis == \"Positive\"]\n",
    "ptweets = ptweets['Tweets']\n",
    "\n",
    "print(f\" The percentage of Positive tweets are: {round(ptweets.shape[0] / df.shape[0] * 100, 1)}%\")"
   ]
  },
  {
   "cell_type": "code",
   "execution_count": 64,
   "id": "cd82a267",
   "metadata": {},
   "outputs": [
    {
     "name": "stdout",
     "output_type": "stream",
     "text": [
      " The percentage of Negative tweets are: 22.0%\n"
     ]
    }
   ],
   "source": [
    "ptweets = df[df.Analysis == \"Negative\"]\n",
    "ptweets = ptweets['Tweets']\n",
    "\n",
    "print(f\" The percentage of Negative tweets are: {round(ptweets.shape[0] / df.shape[0] * 100, 1)}%\")"
   ]
  },
  {
   "cell_type": "code",
   "execution_count": 65,
   "id": "13b56b21",
   "metadata": {},
   "outputs": [
    {
     "name": "stdout",
     "output_type": "stream",
     "text": [
      " The percentage of Neutral tweets are: 50.5%\n"
     ]
    }
   ],
   "source": [
    "ptweets = df[df.Analysis == \"Neutral\"]\n",
    "ptweets = ptweets['Tweets']\n",
    "\n",
    "print(f\" The percentage of Neutral tweets are: {round(ptweets.shape[0] / df.shape[0] * 100, 1)}%\")"
   ]
  },
  {
   "cell_type": "markdown",
   "id": "20d21014",
   "metadata": {},
   "source": [
    "### Show the value counts:"
   ]
  },
  {
   "cell_type": "code",
   "execution_count": 66,
   "id": "1d250505",
   "metadata": {},
   "outputs": [
    {
     "data": {
      "image/png": "[encoded data removed]",
      "text/plain": [
       "<Figure size 432x288 with 1 Axes>"
      ]
     },
     "metadata": {},
     "output_type": "display_data"
    }
   ],
   "source": [
    "df['Analysis'].value_counts()\n",
    "\n",
    "plt.title(\"Sentimental Analysis\")\n",
    "plt.xlabel(\"Sentiment\")\n",
    "plt.ylabel(\"Counts\")\n",
    "df['Analysis'].value_counts().plot(kind='bar')\n",
    "plt.show()"
   ]
  },
  {
   "cell_type": "code",
   "execution_count": null,
   "id": "864fcace",
   "metadata": {},
   "outputs": [],
   "source": []
  }
 ],
 "metadata": {
  "kernelspec": {
   "display_name": "Python 3 (ipykernel)",
   "language": "python",
   "name": "python3"
  },
  "language_info": {
   "codemirror_mode": {
    "name": "ipython",
    "version": 3
   },
   "file_extension": ".py",
   "mimetype": "text/x-python",
   "name": "python",
   "nbconvert_exporter": "python",
   "pygments_lexer": "ipython3",
   "version": "3.9.7"
  }
 },
 "nbformat": 4,
 "nbformat_minor": 5
}
